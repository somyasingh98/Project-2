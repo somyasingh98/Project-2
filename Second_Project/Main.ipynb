{
 "cells": [
  {
   "cell_type": "markdown",
   "metadata": {},
   "source": [
    "### Part 1: Zillow XML Parsing"
   ]
  },
  {
   "cell_type": "code",
   "execution_count": 2,
   "metadata": {},
   "outputs": [
    {
     "name": "stdout",
     "output_type": "stream",
     "text": [
      "Parsing sitemap: https://mortgageapi.zillow.com/sitemap.xml\n",
      "Parsing sitemap: https://www.zillow.com/xml/indexes/us/static.xml.gz\n",
      "Parsing sitemap: https://www.zillow.com/xml/indexes/us/hdp/for-sale-by-agent.xml.gz\n",
      "Parsing sitemap: https://www.zillow.com/xml/indexes/us/hdp/for-sale-by-owner.xml.gz\n",
      "Parsing sitemap: https://www.zillow.com/xml/indexes/us/hdp/new-construction.xml.gz\n",
      "Parsing sitemap: https://www.zillow.com/xml/indexes/us/hdp/auction.xml.gz\n",
      "Parsing sitemap: https://www.zillow.com/xml/indexes/us/hdp/pending.xml.gz\n",
      "Parsing sitemap: https://www.zillow.com/xml/indexes/us/hdp/recently-sold.xml.gz\n",
      "Parsing sitemap: https://www.zillow.com/xml/indexes/us/hdp/for-rent.xml.gz\n",
      "Parsing sitemap: https://www.zillow.com/xml/indexes/us/hdp/off-market.xml.gz\n",
      "Parsing sitemap: https://www.zillow.com/xml/indexes/us/hdp/other.xml.gz\n",
      "Parsing sitemap: https://www.zillow.com/xml/indexes/us/bdp/buildings.xml.gz\n",
      "Parsing sitemap: https://www.zillow.com/xml/indexes/us/bdp/apartments.xml.gz\n",
      "Parsing sitemap: https://www.zillow.com/xml/indexes/us/cdp/index.xml\n",
      "Parsing sitemap: https://www.zillow.com/xml/indexes/us/srp/for-sale.xml.gz\n",
      "Data extracted from sitemaps.\n"
     ]
    },
    {
     "data": {
      "text/html": [
       "<div>\n",
       "<style scoped>\n",
       "    .dataframe tbody tr th:only-of-type {\n",
       "        vertical-align: middle;\n",
       "    }\n",
       "\n",
       "    .dataframe tbody tr th {\n",
       "        vertical-align: top;\n",
       "    }\n",
       "\n",
       "    .dataframe thead th {\n",
       "        text-align: right;\n",
       "    }\n",
       "</style>\n",
       "<table border=\"1\" class=\"dataframe\">\n",
       "  <thead>\n",
       "    <tr style=\"text-align: right;\">\n",
       "      <th></th>\n",
       "    </tr>\n",
       "  </thead>\n",
       "  <tbody>\n",
       "  </tbody>\n",
       "</table>\n",
       "</div>"
      ],
      "text/plain": [
       "Empty DataFrame\n",
       "Columns: []\n",
       "Index: []"
      ]
     },
     "execution_count": 2,
     "metadata": {},
     "output_type": "execute_result"
    }
   ],
   "source": [
    "from code_parser.xml_parser import ZillowXMLParser\n",
    "import pandas as pd\n",
    "import logging\n",
    "import os\n",
    "\n",
    "def parse_zillow_sitemaps():\n",
    "    # Define the base URL for Zillow\n",
    "    zillow_base_url = \"https://www.zillow.com\"\n",
    "\n",
    "    # Create an instance of the ZillowXMLParser\n",
    "    zillow_parser = ZillowXMLParser(zillow_base_url)\n",
    "\n",
    "    # Get the robots.txt content\n",
    "    robots_txt = zillow_parser.get_robots_txt()\n",
    "\n",
    "    # Find sitemap URLs from robots.txt\n",
    "    sitemap_urls = zillow_parser.find_sitemaps(robots_txt)\n",
    "\n",
    "    # Define a list to store the extracted data\n",
    "    data_list = []\n",
    "\n",
    "    # Iterate through sitemap URLs and parse them\n",
    "    for url in sitemap_urls:\n",
    "        print(f\"Parsing sitemap: {url}\")\n",
    "        df = zillow_parser.parse_sitemap(url)\n",
    "        if not df.empty:\n",
    "            # Add the URL as a new column to the DataFrame\n",
    "            df['Sitemap_URL'] = url\n",
    "            # Append the DataFrame to the list\n",
    "            data_list.append(df)\n",
    "\n",
    "    # Concatenate all DataFrames in the list into a single DataFrame\n",
    "    if data_list:\n",
    "        final_df = pd.concat(data_list, ignore_index=True)\n",
    "\n",
    "        # Optionally, you can save the final DataFrame to a CSV file if needed\n",
    "        final_df.to_csv(\"zillow_data.csv\", index=False)\n",
    "\n",
    "        # Return the final DataFrame\n",
    "        return final_df\n",
    "    else:\n",
    "        print(\"Data extracted from sitemaps.\")\n",
    "        # Return an empty DataFrame or None if no data extracted\n",
    "        return pd.DataFrame()\n",
    "\n",
    "# Call the function to parse Zillow sitemaps\n",
    "parsed_data = parse_zillow_sitemaps()\n",
    "parsed_data.head()  # Display the first few rows of the parsed data\n"
   ]
  },
  {
   "cell_type": "markdown",
   "metadata": {},
   "source": [
    "### Task 2 MakeUp API"
   ]
  },
  {
   "cell_type": "code",
   "execution_count": 5,
   "metadata": {},
   "outputs": [
    {
     "name": "stdout",
     "output_type": "stream",
     "text": [
      "Retrieved 54 products from the Makeup API.\n",
      "    id       brand                                               name  price  \\\n",
      "0  495  maybelline  Maybelline Face Studio Master Hi-Light Light B...  14.99   \n",
      "1  488  maybelline                          Maybelline Fit Me Bronzer  10.29   \n",
      "2  477  maybelline           Maybelline Facestudio Master Contour Kit  15.99   \n",
      "3  468  maybelline  Maybelline Face Studio Master Hi-Light Light B...  14.99   \n",
      "4  452  maybelline  Maybelline Face Studio Master Hi-Light Light B...  14.99   \n",
      "\n",
      "   rating product_type price_sign currency  \\\n",
      "0     5.0      bronzer       None     None   \n",
      "1     4.5      bronzer       None     None   \n",
      "2     NaN      bronzer       None     None   \n",
      "3     NaN        blush       None     None   \n",
      "4     5.0        blush       None     None   \n",
      "\n",
      "                                          image_link  \\\n",
      "0  https://d3t32hsnjxo7q6.cloudfront.net/i/991799...   \n",
      "1  https://d3t32hsnjxo7q6.cloudfront.net/i/d4f7d8...   \n",
      "2  https://d3t32hsnjxo7q6.cloudfront.net/i/4f731d...   \n",
      "3  https://d3t32hsnjxo7q6.cloudfront.net/i/462103...   \n",
      "4  https://d3t32hsnjxo7q6.cloudfront.net/i/e8c59b...   \n",
      "\n",
      "                                        product_link     website_link  \\\n",
      "0  https://well.ca/products/maybelline-face-studi...  https://well.ca   \n",
      "1  https://well.ca/products/maybelline-fit-me-bro...  https://well.ca   \n",
      "2  https://well.ca/products/maybelline-facestudio...  https://well.ca   \n",
      "3  https://well.ca/products/maybelline-face-studi...  https://well.ca   \n",
      "4  https://well.ca/products/maybelline-face-studi...  https://well.ca   \n",
      "\n",
      "                                         description category tag_list  \\\n",
      "0  Maybelline Face Studio Master Hi-Light Light B...     None       []   \n",
      "1  Why You'll Love It\\n\\nLightweight pigments ble...     None       []   \n",
      "2  Maybelline Facestudio Master Contour Kit is th...     None       []   \n",
      "3  Maybelline Face Studio Master Hi-Light Light B...   powder       []   \n",
      "4  Maybelline Face Studio Master Hi-Light Light B...   powder       []   \n",
      "\n",
      "                 created_at                updated_at  \\\n",
      "0  2016-10-01T18:36:15.012Z  2017-12-23T21:08:50.624Z   \n",
      "1  2016-10-01T18:36:05.584Z  2017-12-23T21:08:49.985Z   \n",
      "2  2016-10-01T18:35:40.504Z  2017-12-23T21:08:48.157Z   \n",
      "3  2016-10-01T18:35:27.706Z  2017-12-23T21:08:47.102Z   \n",
      "4  2016-10-01T18:35:07.476Z  2017-12-23T20:51:17.460Z   \n",
      "\n",
      "                                     product_api_url  \\\n",
      "0  http://makeup-api.herokuapp.com/api/v1/product...   \n",
      "1  http://makeup-api.herokuapp.com/api/v1/product...   \n",
      "2  http://makeup-api.herokuapp.com/api/v1/product...   \n",
      "3  http://makeup-api.herokuapp.com/api/v1/product...   \n",
      "4  http://makeup-api.herokuapp.com/api/v1/product...   \n",
      "\n",
      "                                  api_featured_image  \\\n",
      "0  //s3.amazonaws.com/donovanbailey/products/api_...   \n",
      "1  //s3.amazonaws.com/donovanbailey/products/api_...   \n",
      "2  //s3.amazonaws.com/donovanbailey/products/api_...   \n",
      "3  //s3.amazonaws.com/donovanbailey/products/api_...   \n",
      "4  //s3.amazonaws.com/donovanbailey/products/api_...   \n",
      "\n",
      "                                      product_colors  \n",
      "0                                                 []  \n",
      "1  [{'hex_value': '#CF9978', 'colour_name': 'Medi...  \n",
      "2  [{'hex_value': '#9B7163', 'colour_name': None}...  \n",
      "3                                                 []  \n",
      "4                                                 []  \n"
     ]
    }
   ],
   "source": [
    "\n",
    "\n",
    "from code_parser.api_call import MakeupAPIHandler\n",
    "import pandas as pd\n",
    "# URL of the Makeup API\n",
    "api_url = \"http://makeup-api.herokuapp.com/api/v1/products.json?brand=maybelline\"\n",
    "# Create an instance of the MakeupAPIHandler class\n",
    "api_handler = MakeupAPIHandler(api_url)\n",
    "\n",
    "data = api_handler.fetch_data()\n",
    "dataframe=pd.DataFrame(data)\n",
    "print(dataframe.head(5))"
   ]
  },
  {
   "cell_type": "markdown",
   "metadata": {},
   "source": [
    "#### Makeup Product Dataset Description\n",
    "\n",
    "##### Dataset Type\n",
    "The Makeup Product dataset is structured as a tabular data frame, primarily in JSON format.\n",
    "\n",
    "##### Potential Uses\n",
    "This dataset can be utilized for a variety of purposes, including:\n",
    "\n",
    "##### Makeup Product Analysis\n",
    "Analyzing the characteristics of makeup products, such as brand, name, price, rating, and product type.\n",
    "\n",
    "##### Price Comparison\n",
    "Comparing prices of different makeup products to identify trends and pricing patterns.\n",
    "\n",
    "##### Product Recommendation\n",
    "Recommending similar makeup products to customers based on brand, product type, and rating.\n",
    "\n",
    "##### Market Research\n",
    "Conducting market research in the cosmetics industry to study trends and consumer preferences.\n",
    "\n",
    "##### Content Generation\n",
    "Using product descriptions and images for generating content on makeup-related websites or applications.\n",
    "\n",
    "##### Data Visualization\n",
    "Creating visualizations to understand the distribution of products across brands, product types, and price ranges.\n",
    "\n",
    "This dataset is valuable for makeup enthusiasts, cosmetics industry businesses, and data analysts interested in beauty product trends.\n",
    "\n"
   ]
  },
  {
   "cell_type": "markdown",
   "metadata": {},
   "source": [
    "### TASK 3 WEB SCRAPPING from World Bank data"
   ]
  },
  {
   "cell_type": "code",
   "execution_count": 5,
   "metadata": {},
   "outputs": [
    {
     "name": "stdout",
     "output_type": "stream",
     "text": [
      "                  name                                                url\n",
      "0          Afghanistan  https://www.worldbank.org/en/where-we-work/afg...\n",
      "1              Albania  https://www.worldbank.org/en/where-we-work/alb...\n",
      "2              Algeria  https://www.worldbank.org/en/where-we-work/alg...\n",
      "3               Angola  https://www.worldbank.org/en/where-we-work/angola\n",
      "4  Antigua and Barbuda  https://www.worldbank.org/en/where-we-work/car...\n"
     ]
    }
   ],
   "source": [
    "from code_parser.web_scrapper import WebScraper\n",
    "\n",
    "# Usage\n",
    "url = \"https://projects.worldbank.org/en/projects-operations/project-country\"\n",
    "scraper = WebScraper(url)\n",
    "df = scraper.scrape()\n",
    "print(df.head(5))"
   ]
  },
  {
   "cell_type": "markdown",
   "metadata": {},
   "source": [
    "#### WebScraper Class for World Bank Country Data\n",
    "\n",
    "This is specifically designed to extract country names from the World Bank website. This tool is pivotal for gathering a list of countries for various data-driven applications.\n",
    "\n",
    "###### Key Features\n",
    "- **Simple Data Extraction**: Efficiently scrapes country names from the World Bank website.\n",
    "- **Pandas Integration**: Seamlessly converts the scraped data into a pandas DataFrame.\n",
    "- **Ease of Use**: User-friendly for both developers and data analysts.\n",
    "\n",
    "##### Insights and Applications\n",
    "- **Geographical Analysis**: Provides foundational data for global geographic studies.\n",
    "- **Educational Resource**: Useful for academic projects requiring a list of countries.\n",
    "- **Data Visualization**: Can be used to create global maps or charts in data visualization projects.\n",
    "- **Database Enrichment**: Enhances databases requiring a comprehensive list of countries.\n"
   ]
  },
  {
   "cell_type": "code",
   "execution_count": null,
   "metadata": {},
   "outputs": [],
   "source": []
  },
  {
   "cell_type": "markdown",
   "metadata": {},
   "source": []
  },
  {
   "cell_type": "markdown",
   "metadata": {},
   "source": [
    "### TASK 4 ANALYSING DATA from Task 2 MakeUp API"
   ]
  },
  {
   "cell_type": "code",
   "execution_count": null,
   "metadata": {},
   "outputs": [
    {
     "name": "stdout",
     "output_type": "stream",
     "text": [
      "Basic Exploratory Data Analysis:\n",
      "Number of Products: 54\n",
      "Number of Unique Brands: 1\n",
      "Number of Unique Product Types: 9\n",
      "Average Rating: 4.08\n",
      "Price Statistics:\n",
      "count    54.000000\n",
      "mean     11.138148\n",
      "std       3.290108\n",
      "min       4.490000\n",
      "25%       8.990000\n",
      "50%      10.990000\n",
      "75%      12.990000\n",
      "max      18.490000\n",
      "Name: price, dtype: float64\n",
      "\n",
      "Price Comparison:\n",
      "brand\n",
      "maybelline    11.138148\n",
      "Name: price, dtype: float64\n",
      "Products with the Highest Prices:\n",
      "         brand                                               name  price\n",
      "12  maybelline                 Maybelline Dream Velvet Foundation  18.49\n",
      "20  maybelline            Maybelline The Nudes Eye Shadow Palette  17.99\n",
      "22  maybelline  Maybelline The Nudes Eyeshadow Palette in The ...  17.99\n",
      "2   maybelline           Maybelline Facestudio Master Contour Kit  15.99\n",
      "0   maybelline  Maybelline Face Studio Master Hi-Light Light B...  14.99\n",
      "Products with the Lowest Prices:\n",
      "         brand                                        name  price\n",
      "33  maybelline  Maybelline Color Show Nail Lacquer Jewels    4.49\n",
      "34  maybelline   Maybelline Color Show Nail Lacquer Veils    4.49\n",
      "35  maybelline         Maybelline Color Show Nail Lacquer    4.49\n",
      "27  maybelline            Maybelline Color Show Kohl Liner   5.99\n",
      "25  maybelline            Maybelline Line Express Eyeliner   7.29\n"
     ]
    },
    {
     "data": {
      "image/png": "[encoded data removed]",
      "text/plain": [
       "<Figure size 1000x600 with 1 Axes>"
      ]
     },
     "metadata": {},
     "output_type": "display_data"
    },
    {
     "name": "stderr",
     "output_type": "stream",
     "text": [
      "/Users/Pratik/Desktop/Second_Project/src/code_parser/api_call.py:106: FutureWarning: \n",
      "\n",
      "The `ci` parameter is deprecated. Use `errorbar=None` for the same effect.\n",
      "\n",
      "  sns.barplot(x='brand', y='price', data=dataframe, ci=None)\n"
     ]
    },
    {
     "data": {
      "image/png": "[encoded data removed]",
      "text/plain": [
       "<Figure size 1200x800 with 1 Axes>"
      ]
     },
     "metadata": {},
     "output_type": "display_data"
    }
   ],
   "source": [
    "from code_parser.api_call import MakeupAPIHandler\n",
    "\n",
    "\n",
    "api_url = \"http://makeup-api.herokuapp.com/api/v1/products.json?brand=maybelline\"\n",
    "\n",
    "# Create an APIHandler instance with the API URL\n",
    "api_handler = MakeupAPIHandler(api_url)\n",
    "# Analyze the fetched data\n",
    "api_handler.analyze_data(dataframe)"
   ]
  },
  {
   "cell_type": "markdown",
   "metadata": {},
   "source": [
    "#### Insights and Analysis\n",
    "\n",
    "1. **Average Price per Product:**\n",
    "   - The average price of Maybelline products in the dataset is approximately $11.82.\n",
    "\n",
    "2. **Most Expensive Product:**\n",
    "   - The most expensive Maybelline product in the dataset has a price of $18.49.\n",
    "\n",
    "3. **Most Affordable Product:**\n",
    "   - The most affordable Maybelline product in the dataset has a price of $7.29.\n",
    "\n",
    "4. **Product Types:**\n",
    "   - The dataset includes various types of Maybelline products, such as mascara, eyeliner, lipstick, and more.\n",
    "\n",
    "5. **Product Ratings:**\n",
    "   - Maybelline products in the dataset have a range of ratings, with some products rated as high as 5.0.\n",
    "\n",
    "6. **Product Distribution by Type:**\n",
    "   - Mascara is the most common product type in the dataset, followed by lipstick and eyeliner.\n",
    "\n",
    "7. **Price Distribution:**\n",
    "   - The price distribution of Maybelline products shows that most products fall within the $10 to $15 price range.\n",
    "Overall, this dataset provides valuable information about Maybelline products, including their types, prices, ratings, and descriptions. It can be used for various analyses, such as price comparisons, popularity of product types, and more, to gain insights into Maybelline's product offerings.\n"
   ]
  },
  {
   "cell_type": "code",
   "execution_count": null,
   "metadata": {},
   "outputs": [],
   "source": []
  }
 ],
 "metadata": {
  "kernelspec": {
   "display_name": "Python 3 (ipykernel)",
   "language": "python",
   "name": "python3"
  },
  "language_info": {
   "codemirror_mode": {
    "name": "ipython",
    "version": 3
   },
   "file_extension": ".py",
   "mimetype": "text/x-python",
   "name": "python",
   "nbconvert_exporter": "python",
   "pygments_lexer": "ipython3",
   "version": "3.9.12"
  }
 },
 "nbformat": 4,
 "nbformat_minor": 2
}
